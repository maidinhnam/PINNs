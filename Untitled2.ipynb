{
 "cells": [
  {
   "cell_type": "code",
   "execution_count": 4,
   "id": "8b6792e8-7963-4251-b326-958f404baf0d",
   "metadata": {},
   "outputs": [],
   "source": [
    "import numpy as np\n",
    "import matplotlib.pyplot as plt\n",
    "import tensorflow as tf\n",
    "import random"
   ]
  },
  {
   "cell_type": "code",
   "execution_count": 3,
   "id": "282ca5e0-fbfa-4a67-b72f-32ca60c24996",
   "metadata": {},
   "outputs": [
    {
     "data": {
      "text/plain": [
       "array([0, 1, 2, 3, 4])"
      ]
     },
     "execution_count": 3,
     "metadata": {},
     "output_type": "execute_result"
    }
   ],
   "source": [
    "t = np.array([0, 1, 2, 3, 4])\n",
    "t"
   ]
  },
  {
   "cell_type": "code",
   "execution_count": 4,
   "id": "db10243d-36e3-4ce6-8b3e-a667aca91ac6",
   "metadata": {},
   "outputs": [
    {
     "data": {
      "text/plain": [
       "array([[0],\n",
       "       [1],\n",
       "       [2],\n",
       "       [3],\n",
       "       [4]])"
      ]
     },
     "execution_count": 4,
     "metadata": {},
     "output_type": "execute_result"
    }
   ],
   "source": [
    "t = t.reshape(-1,1)\n",
    "t"
   ]
  },
  {
   "cell_type": "code",
   "execution_count": 5,
   "id": "a08b1cf8-1441-43d0-adfc-c6cb70675e1c",
   "metadata": {},
   "outputs": [
    {
     "data": {
      "text/plain": [
       "<tf.Tensor: shape=(5, 1), dtype=float32, numpy=\n",
       "array([[0.],\n",
       "       [1.],\n",
       "       [2.],\n",
       "       [3.],\n",
       "       [4.]], dtype=float32)>"
      ]
     },
     "execution_count": 5,
     "metadata": {},
     "output_type": "execute_result"
    }
   ],
   "source": [
    "t = tf.constant(t, dtype = tf.float32)\n",
    "t"
   ]
  },
  {
   "cell_type": "code",
   "execution_count": 8,
   "id": "85f6e931-2ed1-4bc0-a6e1-0e291d62f893",
   "metadata": {},
   "outputs": [
    {
     "data": {
      "text/plain": [
       "<tf.Tensor: shape=(1, 1), dtype=float32, numpy=array([[0.]], dtype=float32)>"
      ]
     },
     "execution_count": 8,
     "metadata": {},
     "output_type": "execute_result"
    }
   ],
   "source": [
    "t_0 = tf.zeros((1,1))\n",
    "one = tf.ones((1,1))\n",
    "t_0\n"
   ]
  },
  {
   "cell_type": "code",
   "execution_count": 12,
   "id": "1b0bf056-e647-44d6-b051-591027362373",
   "metadata": {},
   "outputs": [
    {
     "name": "stdout",
     "output_type": "stream",
     "text": [
      "Đạo hàm của vectơ t theo vectơ x: 0.6837634587578276\n"
     ]
    }
   ],
   "source": [
    "import numpy as np\n",
    "\n",
    "def derivative_t_with_respect_to_x(t, x):\n",
    "    # Tính đạo hàm của vectơ x theo chính nó\n",
    "    grad_x = np.gradient(x)\n",
    "    \n",
    "    # Tính đạo hàm của vectơ t theo vectơ x\n",
    "    derivative = np.dot(grad_x, t) / np.linalg.norm(x)\n",
    "    \n",
    "    return derivative\n",
    "\n",
    "# Example vectors\n",
    "t = np.array([1, 2, 3])\n",
    "x = np.array([4, 5, 6])\n",
    "\n",
    "# Tính đạo hàm của vectơ t theo vectơ x\n",
    "result = derivative_t_with_respect_to_x(t, x)\n",
    "print(\"Đạo hàm của vectơ t theo vectơ x:\", result)\n"
   ]
  },
  {
   "cell_type": "code",
   "execution_count": 10,
   "id": "180bbc78-567b-4371-88ed-f5de90c05183",
   "metadata": {},
   "outputs": [
    {
     "name": "stdout",
     "output_type": "stream",
     "text": [
      "tf.Tensor(10.0, shape=(), dtype=float32)\n",
      "tf.Tensor(2.0, shape=(), dtype=float32)\n"
     ]
    }
   ],
   "source": [
    "x = tf.constant(5.0)\n",
    "with tf.GradientTape() as g:\n",
    "  g.watch(x)\n",
    "  with tf.GradientTape() as gg:\n",
    "    gg.watch(x)\n",
    "    y = x * x\n",
    "  dy_dx = gg.gradient(y, x)  # dy_dx = 2 * x\n",
    "d2y_dx2 = g.gradient(dy_dx, x)  # d2y_dx2 = 2\n",
    "print(dy_dx)\n",
    "\n",
    "print(d2y_dx2)\n"
   ]
  },
  {
   "cell_type": "code",
   "execution_count": 20,
   "id": "993e6402-035d-4781-aa39-9e68f7b67227",
   "metadata": {},
   "outputs": [
    {
     "name": "stdout",
     "output_type": "stream",
     "text": [
      "WARNING:tensorflow:Calling GradientTape.gradient on a persistent tape inside its context is significantly less efficient than calling it outside the context (it causes the gradient ops to be recorded on the tape, leading to increased CPU and memory usage). Only call GradientTape.gradient inside the context if you actually want to trace the gradient in order to compute higher order derivatives.\n",
      "Ma trận Jacobian theo x:\n",
      "[0. 0. 0. 0.]\n",
      "\n",
      "Ma trận Jacobian theo y:\n",
      "[0. 0. 0. 0.]\n",
      "\n",
      "Ma trận Jacobian theo z:\n",
      "[0. 0. 0. 0.]\n",
      "Ma trận Hessien theo x:\n",
      "[0. 0. 0. 0.]\n",
      "\n",
      "Ma trận Hessien theo y:\n",
      "[3.8146973e-06 0.0000000e+00 3.8146973e-06 0.0000000e+00]\n",
      "\n",
      "Ma trận Hessien theo z:\n",
      "[ 0.0000000e+00  0.0000000e+00  0.0000000e+00 -1.9073486e-06]\n"
     ]
    }
   ],
   "source": [
    "# Hàm u = x * y * z\n",
    "def u_function(x, y, z):\n",
    "    return x**2 * y**2 * z**2*350/(x**2 * y**2 * z**2)\n",
    "\n",
    "# Tính ma trận Jacobian\n",
    "def compute_jacobian(x, y, z):\n",
    "    with tf.GradientTape(persistent=True) as g:\n",
    "        g.watch(x)\n",
    "        g.watch(y)\n",
    "        g.watch(z)\n",
    "        with tf.GradientTape() as gg:\n",
    "            gg.watch(x)\n",
    "            gg.watch(y)\n",
    "            gg.watch(z)\n",
    "            u = x**2 * y**2 * z**2*random.uniform(300, 400)/(x**2 * y**2 * z**2)\n",
    "        du_dx, du_dy, du_dz = g.gradient(u, [x, y, z])\n",
    "    d2u_dx2 = g.gradient(du_dx, x)\n",
    "    d2u_dy2 = g.gradient(du_dy, y)\n",
    "    d2u_dz2 = g.gradient(du_dz, z)\n",
    "    return du_dx, du_dy, du_dz, d2u_dx2, d2u_dy2, d2u_dz2\n",
    "\n",
    "# Đầu vào\n",
    "x = tf.constant([1., 2., 3., 4.], dtype=tf.float32)\n",
    "y = tf.constant([5., 6., 7., 8.], dtype=tf.float32)\n",
    "z = tf.constant([9., 10., 11., 12.], dtype=tf.float32)\n",
    "\n",
    "# Tính ma trận Jacobian\n",
    "du_dx, du_dy, du_dz, d2u_dx2, d2u_dy2, d2u_dz2 = compute_jacobian(x, y, z)\n",
    "\n",
    "# In ra ma trận Jacobian\n",
    "print(\"Ma trận Jacobian theo x:\")\n",
    "print(du_dx.numpy())\n",
    "print(\"\\nMa trận Jacobian theo y:\")\n",
    "print(du_dy.numpy())\n",
    "print(\"\\nMa trận Jacobian theo z:\")\n",
    "print(du_dz.numpy())\n",
    "print(\"Ma trận Hessien theo x:\")\n",
    "print(d2u_dx2.numpy())\n",
    "print(\"\\nMa trận Hessien theo y:\")\n",
    "print(d2u_dy2.numpy())\n",
    "print(\"\\nMa trận Hessien theo z:\")\n",
    "print(d2u_dz2.numpy())"
   ]
  },
  {
   "cell_type": "code",
   "execution_count": 10,
   "id": "e905a55f-cd3f-4e21-98a2-44e4b01bffef",
   "metadata": {},
   "outputs": [
    {
     "data": {
      "text/plain": [
       "331.18319330919195"
      ]
     },
     "execution_count": 10,
     "metadata": {},
     "output_type": "execute_result"
    }
   ],
   "source": [
    "def u_function(x, y, z):\n",
    "    return x**2 * y**2 * z**2\n",
    "u_function(2, 2, 2)"
   ]
  },
  {
   "cell_type": "code",
   "execution_count": 5,
   "id": "f9323217-265a-41b6-a69d-91925fb56a38",
   "metadata": {},
   "outputs": [
    {
     "ename": "RuntimeError",
     "evalue": "A non-persistent GradientTape can only be used to compute one set of gradients (or jacobians)",
     "output_type": "error",
     "traceback": [
      "\u001b[1;31m---------------------------------------------------------------------------\u001b[0m",
      "\u001b[1;31mRuntimeError\u001b[0m                              Traceback (most recent call last)",
      "Cell \u001b[1;32mIn[5], line 19\u001b[0m\n\u001b[0;32m     16\u001b[0m z \u001b[38;5;241m=\u001b[39m tf\u001b[38;5;241m.\u001b[39mconstant([\u001b[38;5;241m9.\u001b[39m, \u001b[38;5;241m10.\u001b[39m, \u001b[38;5;241m11.\u001b[39m, \u001b[38;5;241m12.\u001b[39m], dtype\u001b[38;5;241m=\u001b[39mtf\u001b[38;5;241m.\u001b[39mfloat32)\n\u001b[0;32m     18\u001b[0m \u001b[38;5;66;03m# Tính ma trận Jacobian\u001b[39;00m\n\u001b[1;32m---> 19\u001b[0m u_x, u_y, u_z, u_xx, u_yy, u_zz \u001b[38;5;241m=\u001b[39m compute_jacobian(x, y, z)\n\u001b[0;32m     21\u001b[0m \u001b[38;5;66;03m# In ra ma trận Jacobian\u001b[39;00m\n\u001b[0;32m     22\u001b[0m \u001b[38;5;28mprint\u001b[39m(\u001b[38;5;124m\"\u001b[39m\u001b[38;5;124mMa trận Jacobian theo x:\u001b[39m\u001b[38;5;124m\"\u001b[39m)\n",
      "Cell \u001b[1;32mIn[5], line 10\u001b[0m, in \u001b[0;36mcompute_jacobian\u001b[1;34m(x, y, z)\u001b[0m\n\u001b[0;32m      8\u001b[0m     u \u001b[38;5;241m=\u001b[39m u_function(x, y, z)\n\u001b[0;32m      9\u001b[0m u_x, u_y, u_z \u001b[38;5;241m=\u001b[39m g\u001b[38;5;241m.\u001b[39mgradient(u, [x, y, z])\n\u001b[1;32m---> 10\u001b[0m u_xx \u001b[38;5;241m=\u001b[39m g\u001b[38;5;241m.\u001b[39mgradient(u_x, x)\n\u001b[0;32m     11\u001b[0m u_yy \u001b[38;5;241m=\u001b[39m g\u001b[38;5;241m.\u001b[39mgradient(u_y, y)\n\u001b[0;32m     12\u001b[0m u_zz \u001b[38;5;241m=\u001b[39m g\u001b[38;5;241m.\u001b[39mgradient(u_z, z)\n",
      "File \u001b[1;32m~\\anaconda3\\Lib\\site-packages\\tensorflow\\python\\eager\\backprop.py:1005\u001b[0m, in \u001b[0;36mGradientTape.gradient\u001b[1;34m(self, target, sources, output_gradients, unconnected_gradients)\u001b[0m\n\u001b[0;32m    965\u001b[0m \u001b[38;5;250m\u001b[39m\u001b[38;5;124;03m\"\"\"Computes the gradient using operations recorded in context of this tape.\u001b[39;00m\n\u001b[0;32m    966\u001b[0m \n\u001b[0;32m    967\u001b[0m \u001b[38;5;124;03mNote: Unless you set `persistent=True` a GradientTape can only be used to\u001b[39;00m\n\u001b[1;32m   (...)\u001b[0m\n\u001b[0;32m   1002\u001b[0m \u001b[38;5;124;03m   called with an unknown value.\u001b[39;00m\n\u001b[0;32m   1003\u001b[0m \u001b[38;5;124;03m\"\"\"\u001b[39;00m\n\u001b[0;32m   1004\u001b[0m \u001b[38;5;28;01mif\u001b[39;00m \u001b[38;5;28mself\u001b[39m\u001b[38;5;241m.\u001b[39m_tape \u001b[38;5;129;01mis\u001b[39;00m \u001b[38;5;28;01mNone\u001b[39;00m:\n\u001b[1;32m-> 1005\u001b[0m   \u001b[38;5;28;01mraise\u001b[39;00m \u001b[38;5;167;01mRuntimeError\u001b[39;00m(\u001b[38;5;124m\"\u001b[39m\u001b[38;5;124mA non-persistent GradientTape can only be used to \u001b[39m\u001b[38;5;124m\"\u001b[39m\n\u001b[0;32m   1006\u001b[0m                      \u001b[38;5;124m\"\u001b[39m\u001b[38;5;124mcompute one set of gradients (or jacobians)\u001b[39m\u001b[38;5;124m\"\u001b[39m)\n\u001b[0;32m   1007\u001b[0m \u001b[38;5;28;01mif\u001b[39;00m \u001b[38;5;28mself\u001b[39m\u001b[38;5;241m.\u001b[39m_recording:\n\u001b[0;32m   1008\u001b[0m   \u001b[38;5;28;01mif\u001b[39;00m \u001b[38;5;129;01mnot\u001b[39;00m \u001b[38;5;28mself\u001b[39m\u001b[38;5;241m.\u001b[39m_persistent:\n",
      "\u001b[1;31mRuntimeError\u001b[0m: A non-persistent GradientTape can only be used to compute one set of gradients (or jacobians)"
     ]
    }
   ],
   "source": [
    "def u_function(x, y, z):\n",
    "    return x**2 * y**2 * z**2\n",
    "\n",
    "# Tính ma trận Jacobian\n",
    "def compute_jacobian(x, y, z):\n",
    "    with tf.GradientTape() as g:\n",
    "        g.watch([x, y, z])\n",
    "        u = u_function(x, y, z)\n",
    "    u_x, u_y, u_z = g.gradient(u, [x, y, z])\n",
    "    u_xx = g.gradient(u_x, x)\n",
    "    u_yy = g.gradient(u_y, y)\n",
    "    u_zz = g.gradient(u_z, z)\n",
    "    return u_x, u_y, u_z, u_xx, u_yy, u_zz\n",
    "x = tf.constant([1., 2., 3., 4.], dtype=tf.float32)\n",
    "y = tf.constant([5., 6., 7., 8.], dtype=tf.float32)\n",
    "z = tf.constant([9., 10., 11., 12.], dtype=tf.float32)\n",
    "\n",
    "# Tính ma trận Jacobian\n",
    "u_x, u_y, u_z, u_xx, u_yy, u_zz = compute_jacobian(x, y, z)\n",
    "\n",
    "# In ra ma trận Jacobian\n",
    "print(\"Ma trận Jacobian theo x:\")\n",
    "print(u_x.numpy())\n",
    "print(\"\\nMa trận Jacobian theo y:\")\n",
    "print(u_y.numpy())\n",
    "print(\"\\nMa trận Jacobian theo z:\")\n",
    "print(u_z.numpy())\n",
    "print(\"Ma trận Hessien theo x:\")\n",
    "print(u_xx.numpy())\n",
    "print(\"\\nMa trận Hessien theo y:\")\n",
    "print(u_yy.numpy())\n",
    "print(\"\\nMa trận Hessien theo z:\")\n",
    "print(u_zz.numpy())"
   ]
  },
  {
   "cell_type": "code",
   "execution_count": 24,
   "id": "8adc5fa4-63e4-4587-b58d-59c749a4f4b3",
   "metadata": {},
   "outputs": [
    {
     "name": "stdout",
     "output_type": "stream",
     "text": [
      "x_data: [-1.  0.  1.]\n",
      "y_data: [-1.  0.  1.]\n",
      "u_data: [1. 2. 3.]\n",
      "v_data: [4. 5. 6.]\n",
      "w_data: [7. 8. 9.]\n",
      "Condition: [False False False]\n",
      "bc_body_u: [1. 2. 3.]\n",
      "bc_body_v: [4. 5. 6.]\n",
      "bc_body_w: [7. 8. 9.]\n"
     ]
    }
   ],
   "source": [
    "x_data = np.array([-1.0, 0.0, 1.0])  # Example x data\n",
    "y_data = np.array([-1.0, 0.0, 1.0])  # Example y data\n",
    "u_data = np.array([1.0, 2.0, 3.0])    # Example u data\n",
    "v_data = np.array([4.0, 5.0, 6.0])    # Example v data\n",
    "w_data = np.array([7.0, 8.0, 9.0])    # Example w data\n",
    "R_value = 1.0                          # Example R value\n",
    "\n",
    "# Test condition\n",
    "condition = tf.abs(x_data**2 + y_data**2 - R_value**2) < 1e-8\n",
    "\n",
    "# Apply condition\n",
    "bc_body_u = tf.where(condition, 0.0, u_data)\n",
    "bc_body_v = tf.where(condition, 0.0, v_data)\n",
    "bc_body_w = tf.where(condition, 0.0, w_data)\n",
    "\n",
    "# Print result\n",
    "print(\"x_data:\", x_data)\n",
    "print(\"y_data:\", y_data)\n",
    "print(\"u_data:\", u_data)\n",
    "print(\"v_data:\", v_data)\n",
    "print(\"w_data:\", w_data)\n",
    "print(\"Condition:\", condition.numpy())\n",
    "print(\"bc_body_u:\", bc_body_u.numpy())\n",
    "print(\"bc_body_v:\", bc_body_v.numpy())\n",
    "print(\"bc_body_w:\", bc_body_w.numpy())"
   ]
  },
  {
   "cell_type": "code",
   "execution_count": 25,
   "id": "14de366c-f730-4ba6-87cd-845579fbdde1",
   "metadata": {},
   "outputs": [],
   "source": [
    "NN = tf.keras.models.Sequential([\n",
    "    tf.keras.layers.Input((3,)),\n",
    "    tf.keras.layers.Dense(units = 32, activation = 'tanh'),\n",
    "    tf.keras.layers.Dense(units = 32, activation = 'tanh'),\n",
    "    tf.keras.layers.Dense(units = 32, activation = 'tanh'),\n",
    "    tf.keras.layers.Dense(units = 4)\n",
    "])\n",
    "optm = tf.keras.optimizers.Adam(learning_rate = 0.001)"
   ]
  },
  {
   "cell_type": "code",
   "execution_count": 45,
   "id": "2ad6c328-35f5-46b2-96e3-d979675c7f15",
   "metadata": {},
   "outputs": [
    {
     "name": "stdout",
     "output_type": "stream",
     "text": [
      "Predicted u: [0.41549522 0.4541814  0.48581707]\n"
     ]
    }
   ],
   "source": [
    "x = np.array([1, 2, 3])\n",
    "y = np.array([4, 5, 6])\n",
    "z = np.array([7, 8, 9])\n",
    "x = x.reshape(-1,1)\n",
    "x = tf.constant(x, dtype = tf.float32)  \n",
    "y = y.reshape(-1,1)\n",
    "y = tf.constant(y, dtype = tf.float32) \n",
    "z = z.reshape(-1,1)\n",
    "z = tf.constant(z, dtype = tf.float32) \n",
    "# Tính toán giá trị u bằng cách sử dụng net\n",
    "u_predicted = NN(tf.concat([x, y, z], axis=1))[:,0]\n",
    "\n",
    "# In ra giá trị u\n",
    "print(\"Predicted u:\", u_predicted.numpy())"
   ]
  },
  {
   "cell_type": "code",
   "execution_count": 42,
   "id": "534415c3-2523-4bc4-aa2e-a1dccda823c8",
   "metadata": {},
   "outputs": [
    {
     "data": {
      "text/plain": [
       "<tf.Tensor: shape=(3, 3), dtype=float32, numpy=\n",
       "array([[1., 4., 7.],\n",
       "       [2., 5., 8.],\n",
       "       [3., 6., 9.]], dtype=float32)>"
      ]
     },
     "execution_count": 42,
     "metadata": {},
     "output_type": "execute_result"
    }
   ],
   "source": [
    "tf.concat([x, y, z], axis=1)"
   ]
  },
  {
   "cell_type": "code",
   "execution_count": 2,
   "id": "2a348a51-eec6-4404-addc-a5e18b01f9cd",
   "metadata": {},
   "outputs": [],
   "source": [
    "def generate_points_in_cylinder(R, H, num_points):\n",
    "    points = []\n",
    "    while len(points) < num_points:\n",
    "        x = random.uniform(0, R)\n",
    "        y = random.uniform(0, R)\n",
    "        z = random.uniform(0, H)\n",
    "        if x**2 + y**2 <= R**2:\n",
    "            points.append((x, y, z))\n",
    "    return points\n",
    "\n",
    "R = 0.039/2  # Bán kính của đáy hình trụ\n",
    "H = 0.42  # Chiều cao của hình trụ\n",
    "num_points = 800\n",
    "\n",
    "points = generate_points_in_cylinder(R, H, num_points)\n",
    "\n",
    "\n",
    "\n",
    "\n"
   ]
  },
  {
   "cell_type": "code",
   "execution_count": 3,
   "id": "228ca097-735c-4dc0-a3bf-06cf08062c42",
   "metadata": {},
   "outputs": [],
   "source": [
    "t_0 = tf.zeros((1,1))\n",
    "one = tf.ones((1,1))   "
   ]
  },
  {
   "cell_type": "code",
   "execution_count": 4,
   "id": "33aa2e7b-9ee0-4593-829a-7889adf3990f",
   "metadata": {},
   "outputs": [
    {
     "data": {
      "text/plain": [
       "<tf.Tensor: shape=(1, 1), dtype=float32, numpy=array([[0.]], dtype=float32)>"
      ]
     },
     "execution_count": 4,
     "metadata": {},
     "output_type": "execute_result"
    }
   ],
   "source": [
    "t_0"
   ]
  },
  {
   "cell_type": "code",
   "execution_count": 6,
   "id": "9f621a40-d5ba-4d47-b035-8842ccf889b6",
   "metadata": {},
   "outputs": [
    {
     "name": "stdout",
     "output_type": "stream",
     "text": [
      "tf.Tensor([[1.]], shape=(1, 1), dtype=float32)\n"
     ]
    }
   ],
   "source": [
    "print(one)"
   ]
  },
  {
   "cell_type": "code",
   "execution_count": 22,
   "id": "02b893be-7975-4e68-b01c-48c848dd83a5",
   "metadata": {},
   "outputs": [
    {
     "name": "stdout",
     "output_type": "stream",
     "text": [
      "\u001b[1m15625/15625\u001b[0m \u001b[32m━━━━━━━━━━━━━━━━━━━━\u001b[0m\u001b[37m\u001b[0m \u001b[1m13s\u001b[0m 791us/step\n"
     ]
    }
   ],
   "source": [
    "import numpy as np\n",
    "import tensorflow as tf\n",
    "from tensorflow.keras.models import Sequential\n",
    "from tensorflow.keras.layers import Dense, Input\n",
    "\n",
    "# Định nghĩa model NN với x, y là input và u, v, p là output\n",
    "NN = Sequential([\n",
    "    Input(shape=(2,)),\n",
    "    Dense(units=32, activation='tanh'),\n",
    "    Dense(units=32, activation='tanh'),\n",
    "    Dense(units=32, activation='tanh'),\n",
    "    Dense(units=3)  # 3 units cho u, v, p\n",
    "])\n",
    "\n",
    "# Thêm lớp output cho biến t\n",
    "NN.add(Dense(units=1, activation='linear'))  # 1 unit cho biến t\n",
    "\n",
    "# Compile model\n",
    "NN.compile(optimizer='adam', loss='mse', metrics=['accuracy'])\n",
    "\n",
    "# Giả sử bạn đã huấn luyện mô hình với dữ liệu huấn luyện và kiểm tra\n",
    "samples = np.random.rand(500000, 2)\n",
    "# Dự đoán giá trị u, v, p, t với mô hình NN\n",
    "predicted_values = NN.predict(samples)\n",
    "\n",
    "# Lấy kết quả dự đoán cho biến t\n",
    "predicted_t = predicted_values[:, -1]\n",
    "\n",
    "# Chia tỷ lệ giữa kết quả dự đoán và phạm vi mong muốn (0-1)\n",
    "scaled_t = (predicted_t - predicted_t.min()) / (predicted_t.max() - predicted_t.min())\n",
    "\n",
    "# Chuyển đổi kết quả dự đoán về phạm vi mong muốn (300-400)\n",
    "scaled_t = scaled_t * (400 - 300) + 300"
   ]
  },
  {
   "cell_type": "code",
   "execution_count": 24,
   "id": "6fd27d71-2f24-4575-b573-e04fa1187d7b",
   "metadata": {},
   "outputs": [
    {
     "name": "stdout",
     "output_type": "stream",
     "text": [
      "\u001b[1m15625/15625\u001b[0m \u001b[32m━━━━━━━━━━━━━━━━━━━━\u001b[0m\u001b[37m\u001b[0m \u001b[1m14s\u001b[0m 908us/step\n"
     ]
    },
    {
     "data": {
      "text/plain": [
       "array([-0.33311832, -0.43714535, -0.16024272, ..., -0.59061855,\n",
       "       -0.4854607 , -0.51175016], dtype=float32)"
      ]
     },
     "execution_count": 24,
     "metadata": {},
     "output_type": "execute_result"
    }
   ],
   "source": [
    "NN.predict(samples)[:, -1]"
   ]
  },
  {
   "cell_type": "code",
   "execution_count": null,
   "id": "de873a85-d5b8-4c17-b10b-7b8910685c8f",
   "metadata": {},
   "outputs": [],
   "source": []
  }
 ],
 "metadata": {
  "kernelspec": {
   "display_name": "Python 3 (ipykernel)",
   "language": "python",
   "name": "python3"
  },
  "language_info": {
   "codemirror_mode": {
    "name": "ipython",
    "version": 3
   },
   "file_extension": ".py",
   "mimetype": "text/x-python",
   "name": "python",
   "nbconvert_exporter": "python",
   "pygments_lexer": "ipython3",
   "version": "3.11.7"
  }
 },
 "nbformat": 4,
 "nbformat_minor": 5
}
