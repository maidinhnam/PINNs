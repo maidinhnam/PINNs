{
 "cells": [
  {
   "cell_type": "code",
   "execution_count": 5,
   "id": "e5472ce2-3aed-415e-928b-56a822d8badb",
   "metadata": {
    "tags": []
   },
   "outputs": [],
   "source": [
    "import numpy as np\n",
    "import matplotlib.pyplot as plt\n",
    "import tensorflow as tf\n",
    "import random\n"
   ]
  },
  {
   "cell_type": "code",
   "execution_count": 6,
   "id": "95d8566d-0302-4db1-8e82-6a22aa007479",
   "metadata": {
    "tags": []
   },
   "outputs": [],
   "source": [
    "D= 0.039\n",
    "d= 0.0078\n",
    "H= 0.42\n",
    "rho= 0.7356\n",
    "mu= 26.09E-6\n",
    "nu=mu/rho\n",
    "u_in=1"
   ]
  },
  {
   "cell_type": "code",
   "execution_count": 7,
   "id": "50cb4c5e-a35c-4dd8-a1b5-318b3f8f3144",
   "metadata": {
    "tags": []
   },
   "outputs": [
    {
     "data": {
      "text/html": [
       "<pre style=\"white-space:pre;overflow-x:auto;line-height:normal;font-family:Menlo,'DejaVu Sans Mono',consolas,'Courier New',monospace\"><span style=\"font-weight: bold\">Model: \"sequential\"</span>\n",
       "</pre>\n"
      ],
      "text/plain": [
       "\u001b[1mModel: \"sequential\"\u001b[0m\n"
      ]
     },
     "metadata": {},
     "output_type": "display_data"
    },
    {
     "data": {
      "text/html": [
       "<pre style=\"white-space:pre;overflow-x:auto;line-height:normal;font-family:Menlo,'DejaVu Sans Mono',consolas,'Courier New',monospace\">┏━━━━━━━━━━━━━━━━━━━━━━━━━━━━━━━━━━━━━━┳━━━━━━━━━━━━━━━━━━━━━━━━━━━━━┳━━━━━━━━━━━━━━━━━┓\n",
       "┃<span style=\"font-weight: bold\"> Layer (type)                         </span>┃<span style=\"font-weight: bold\"> Output Shape                </span>┃<span style=\"font-weight: bold\">         Param # </span>┃\n",
       "┡━━━━━━━━━━━━━━━━━━━━━━━━━━━━━━━━━━━━━━╇━━━━━━━━━━━━━━━━━━━━━━━━━━━━━╇━━━━━━━━━━━━━━━━━┩\n",
       "│ dense (<span style=\"color: #0087ff; text-decoration-color: #0087ff\">Dense</span>)                        │ (<span style=\"color: #00d7ff; text-decoration-color: #00d7ff\">None</span>, <span style=\"color: #00af00; text-decoration-color: #00af00\">64</span>)                  │             <span style=\"color: #00af00; text-decoration-color: #00af00\">256</span> │\n",
       "├──────────────────────────────────────┼─────────────────────────────┼─────────────────┤\n",
       "│ dense_1 (<span style=\"color: #0087ff; text-decoration-color: #0087ff\">Dense</span>)                      │ (<span style=\"color: #00d7ff; text-decoration-color: #00d7ff\">None</span>, <span style=\"color: #00af00; text-decoration-color: #00af00\">64</span>)                  │           <span style=\"color: #00af00; text-decoration-color: #00af00\">4,160</span> │\n",
       "├──────────────────────────────────────┼─────────────────────────────┼─────────────────┤\n",
       "│ dense_2 (<span style=\"color: #0087ff; text-decoration-color: #0087ff\">Dense</span>)                      │ (<span style=\"color: #00d7ff; text-decoration-color: #00d7ff\">None</span>, <span style=\"color: #00af00; text-decoration-color: #00af00\">64</span>)                  │           <span style=\"color: #00af00; text-decoration-color: #00af00\">4,160</span> │\n",
       "├──────────────────────────────────────┼─────────────────────────────┼─────────────────┤\n",
       "│ dense_3 (<span style=\"color: #0087ff; text-decoration-color: #0087ff\">Dense</span>)                      │ (<span style=\"color: #00d7ff; text-decoration-color: #00d7ff\">None</span>, <span style=\"color: #00af00; text-decoration-color: #00af00\">64</span>)                  │           <span style=\"color: #00af00; text-decoration-color: #00af00\">4,160</span> │\n",
       "├──────────────────────────────────────┼─────────────────────────────┼─────────────────┤\n",
       "│ dense_4 (<span style=\"color: #0087ff; text-decoration-color: #0087ff\">Dense</span>)                      │ (<span style=\"color: #00d7ff; text-decoration-color: #00d7ff\">None</span>, <span style=\"color: #00af00; text-decoration-color: #00af00\">64</span>)                  │           <span style=\"color: #00af00; text-decoration-color: #00af00\">4,160</span> │\n",
       "├──────────────────────────────────────┼─────────────────────────────┼─────────────────┤\n",
       "│ dense_5 (<span style=\"color: #0087ff; text-decoration-color: #0087ff\">Dense</span>)                      │ (<span style=\"color: #00d7ff; text-decoration-color: #00d7ff\">None</span>, <span style=\"color: #00af00; text-decoration-color: #00af00\">4</span>)                   │             <span style=\"color: #00af00; text-decoration-color: #00af00\">260</span> │\n",
       "└──────────────────────────────────────┴─────────────────────────────┴─────────────────┘\n",
       "</pre>\n"
      ],
      "text/plain": [
       "┏━━━━━━━━━━━━━━━━━━━━━━━━━━━━━━━━━━━━━━┳━━━━━━━━━━━━━━━━━━━━━━━━━━━━━┳━━━━━━━━━━━━━━━━━┓\n",
       "┃\u001b[1m \u001b[0m\u001b[1mLayer (type)                        \u001b[0m\u001b[1m \u001b[0m┃\u001b[1m \u001b[0m\u001b[1mOutput Shape               \u001b[0m\u001b[1m \u001b[0m┃\u001b[1m \u001b[0m\u001b[1m        Param #\u001b[0m\u001b[1m \u001b[0m┃\n",
       "┡━━━━━━━━━━━━━━━━━━━━━━━━━━━━━━━━━━━━━━╇━━━━━━━━━━━━━━━━━━━━━━━━━━━━━╇━━━━━━━━━━━━━━━━━┩\n",
       "│ dense (\u001b[38;5;33mDense\u001b[0m)                        │ (\u001b[38;5;45mNone\u001b[0m, \u001b[38;5;34m64\u001b[0m)                  │             \u001b[38;5;34m256\u001b[0m │\n",
       "├──────────────────────────────────────┼─────────────────────────────┼─────────────────┤\n",
       "│ dense_1 (\u001b[38;5;33mDense\u001b[0m)                      │ (\u001b[38;5;45mNone\u001b[0m, \u001b[38;5;34m64\u001b[0m)                  │           \u001b[38;5;34m4,160\u001b[0m │\n",
       "├──────────────────────────────────────┼─────────────────────────────┼─────────────────┤\n",
       "│ dense_2 (\u001b[38;5;33mDense\u001b[0m)                      │ (\u001b[38;5;45mNone\u001b[0m, \u001b[38;5;34m64\u001b[0m)                  │           \u001b[38;5;34m4,160\u001b[0m │\n",
       "├──────────────────────────────────────┼─────────────────────────────┼─────────────────┤\n",
       "│ dense_3 (\u001b[38;5;33mDense\u001b[0m)                      │ (\u001b[38;5;45mNone\u001b[0m, \u001b[38;5;34m64\u001b[0m)                  │           \u001b[38;5;34m4,160\u001b[0m │\n",
       "├──────────────────────────────────────┼─────────────────────────────┼─────────────────┤\n",
       "│ dense_4 (\u001b[38;5;33mDense\u001b[0m)                      │ (\u001b[38;5;45mNone\u001b[0m, \u001b[38;5;34m64\u001b[0m)                  │           \u001b[38;5;34m4,160\u001b[0m │\n",
       "├──────────────────────────────────────┼─────────────────────────────┼─────────────────┤\n",
       "│ dense_5 (\u001b[38;5;33mDense\u001b[0m)                      │ (\u001b[38;5;45mNone\u001b[0m, \u001b[38;5;34m4\u001b[0m)                   │             \u001b[38;5;34m260\u001b[0m │\n",
       "└──────────────────────────────────────┴─────────────────────────────┴─────────────────┘\n"
      ]
     },
     "metadata": {},
     "output_type": "display_data"
    },
    {
     "data": {
      "text/html": [
       "<pre style=\"white-space:pre;overflow-x:auto;line-height:normal;font-family:Menlo,'DejaVu Sans Mono',consolas,'Courier New',monospace\"><span style=\"font-weight: bold\"> Total params: </span><span style=\"color: #00af00; text-decoration-color: #00af00\">17,156</span> (67.02 KB)\n",
       "</pre>\n"
      ],
      "text/plain": [
       "\u001b[1m Total params: \u001b[0m\u001b[38;5;34m17,156\u001b[0m (67.02 KB)\n"
      ]
     },
     "metadata": {},
     "output_type": "display_data"
    },
    {
     "data": {
      "text/html": [
       "<pre style=\"white-space:pre;overflow-x:auto;line-height:normal;font-family:Menlo,'DejaVu Sans Mono',consolas,'Courier New',monospace\"><span style=\"font-weight: bold\"> Trainable params: </span><span style=\"color: #00af00; text-decoration-color: #00af00\">17,156</span> (67.02 KB)\n",
       "</pre>\n"
      ],
      "text/plain": [
       "\u001b[1m Trainable params: \u001b[0m\u001b[38;5;34m17,156\u001b[0m (67.02 KB)\n"
      ]
     },
     "metadata": {},
     "output_type": "display_data"
    },
    {
     "data": {
      "text/html": [
       "<pre style=\"white-space:pre;overflow-x:auto;line-height:normal;font-family:Menlo,'DejaVu Sans Mono',consolas,'Courier New',monospace\"><span style=\"font-weight: bold\"> Non-trainable params: </span><span style=\"color: #00af00; text-decoration-color: #00af00\">0</span> (0.00 B)\n",
       "</pre>\n"
      ],
      "text/plain": [
       "\u001b[1m Non-trainable params: \u001b[0m\u001b[38;5;34m0\u001b[0m (0.00 B)\n"
      ]
     },
     "metadata": {},
     "output_type": "display_data"
    }
   ],
   "source": [
    "NN = tf.keras.models.Sequential([\n",
    "    tf.keras.layers.Input((3,)),\n",
    "    tf.keras.layers.Dense(units = 64, activation = 'tanh'),\n",
    "    tf.keras.layers.Dense(units = 64, activation = 'tanh'),\n",
    "    tf.keras.layers.Dense(units = 64, activation = 'tanh'),\n",
    "    tf.keras.layers.Dense(units = 64, activation = 'tanh'),\n",
    "    tf.keras.layers.Dense(units = 64, activation = 'tanh'),\n",
    "    tf.keras.layers.Dense(units = 4)\n",
    "])\n",
    "\n",
    "NN.summary()"
   ]
  },
  {
   "cell_type": "code",
   "execution_count": 8,
   "id": "6a59c344-b0a6-44be-8808-1f2dcdfecd9c",
   "metadata": {
    "tags": []
   },
   "outputs": [],
   "source": [
    "optm = tf.keras.optimizers.Adam(learning_rate = 0.001)\n"
   ]
  },
  {
   "cell_type": "code",
   "execution_count": 9,
   "id": "336f367e-6186-425b-a553-5e82095c5ecd",
   "metadata": {
    "tags": []
   },
   "outputs": [],
   "source": [
    "def pde_loss(x, y, z, net, nu, rho):\n",
    "    x = x.reshape(-1,1)\n",
    "    x = tf.constant(x, dtype = tf.float32)  \n",
    "    y = y.reshape(-1,1)\n",
    "    y = tf.constant(y, dtype = tf.float32) \n",
    "    z = z.reshape(-1,1)\n",
    "    z = tf.constant(z, dtype = tf.float32) \n",
    "\n",
    "    # Compute derivatives\n",
    "    with tf.GradientTape(persistent=True) as g:\n",
    "        g.watch(x)\n",
    "        g.watch(y)\n",
    "        g.watch(z)\n",
    "        with tf.GradientTape() as gg:\n",
    "            gg.watch(x)\n",
    "            gg.watch(y)\n",
    "            gg.watch(z)\n",
    "            u = net(tf.concat([x, y, z], axis=1))[:,0]\n",
    "        u_x, u_y, u_z = g.gradient(u, [x, y, z])\n",
    "    u_xx = g.gradient(u_x, x)\n",
    "    u_yy = g.gradient(u_y, y)\n",
    "    u_zz = g.gradient(u_z, z)\n",
    "    with tf.GradientTape(persistent=True) as g:\n",
    "        g.watch(x)\n",
    "        g.watch(y)\n",
    "        g.watch(z)\n",
    "        with tf.GradientTape() as gg:\n",
    "            gg.watch(x)\n",
    "            gg.watch(y)\n",
    "            gg.watch(z)\n",
    "            v = net(tf.concat([x, y, z], axis=1))[:,1]\n",
    "        v_x, v_y, v_z = g.gradient(v, [x, y, z])\n",
    "    v_xx = g.gradient(v_x, x)\n",
    "    v_yy = g.gradient(v_y, y)\n",
    "    v_zz = g.gradient(v_z, z)\n",
    "    with tf.GradientTape(persistent=True) as g:\n",
    "        g.watch(x)\n",
    "        g.watch(y)\n",
    "        g.watch(z)\n",
    "        with tf.GradientTape() as gg:\n",
    "            gg.watch(x)\n",
    "            gg.watch(y)\n",
    "            gg.watch(z)\n",
    "            w = net(tf.concat([x, y, z], axis=1))[:,2]\n",
    "        w_x, w_y, w_z = g.gradient(w, [x, y, z])\n",
    "    w_xx = g.gradient(w_x, x)\n",
    "    w_yy = g.gradient(w_y, y)\n",
    "    w_zz = g.gradient(w_z, z)\n",
    "    with tf.GradientTape() as g:\n",
    "        g.watch(x)\n",
    "        g.watch(y)\n",
    "        g.watch(z)            \n",
    "        p = net(tf.concat([x, y, z], axis=1))[:,3]\n",
    "        p_x, p_y, p_z = g.gradient(p, [x, y, z])\n",
    "   \n",
    "\n",
    "    # Compute PDE terms\n",
    "    pde_u = u * u_x + v * u_y + w * u_z + 1/rho * p_x - nu * (u_xx + u_yy + u_zz)\n",
    "    pde_v = u * v_x + v * v_y + w * v_z + 1/rho * p_y - nu * (v_xx + v_yy + v_zz)\n",
    "    pde_w = u * w_x + v * w_y + w * w_z + 1/rho * p_z - nu * (w_xx + w_yy + w_zz)\n",
    "    pde_0 = u_x+ v_y+ w_z\n",
    "    \n",
    "\n",
    "    # Compute square loss\n",
    "    square_loss = tf.square(pde_u) + tf.square(pde_v) + tf.square(pde_w) + tf.square(pde_0)\n",
    "    total_loss = tf.reduce_mean(square_loss)\n",
    "\n",
    "    return total_loss\n",
    "def BC_loss(x, y, z, net):\n",
    "    x = x.reshape(-1,1)\n",
    "    x = tf.constant(x, dtype = tf.float32)  \n",
    "    y = y.reshape(-1,1)\n",
    "    y = tf.constant(y, dtype = tf.float32) \n",
    "    z = z.reshape(-1,1)\n",
    "    z = tf.constant(z, dtype = tf.float32) \n",
    "    # Compute boundary conditions\n",
    "    # At the cylinder body\n",
    "    bc_u =  net(tf.concat([x, y, z], axis=1))[:,0]\n",
    "    bc_v =  net(tf.concat([x, y, z], axis=1))[:,1]\n",
    "    bc_w =  net(tf.concat([x, y, z], axis=1))[:,2]\n",
    "    square_loss= tf.square(bc_u) + tf.square(bc_v)+ tf.square(bc_w)\n",
    "    total_loss = tf.reduce_mean(square_loss)\n",
    "\n",
    "    return total_loss\n",
    "\n",
    "\n",
    "def IN_loss(x, y, z, net, u_in):\n",
    "\n",
    "    x = x.reshape(-1,1)\n",
    "    x = tf.constant(x, dtype = tf.float32)  \n",
    "    y = y.reshape(-1,1)\n",
    "    y = tf.constant(y, dtype = tf.float32) \n",
    "    z = z.reshape(-1,1)\n",
    "    z = tf.constant(z, dtype = tf.float32) \n",
    "    # At the inlet\n",
    "    bc_inlet_u = net(tf.concat([x, y, z], axis=1))[:,0] \n",
    "    bc_inlet_v = net(tf.concat([x, y, z], axis=1))[:,1]\n",
    "    bc_inlet_w = net(tf.concat([x, y, z], axis=1))[:,2]-u_in\n",
    "    square_loss= tf.square(bc_inlet_u) + tf.square(bc_inlet_v)+ tf.square(bc_inlet_w)\n",
    "    total_loss = tf.reduce_mean(square_loss)\n",
    "    return total_loss\n",
    "def OUT_loss(x, y, z, net):\n",
    "    x = x.reshape(-1,1)\n",
    "    x = tf.constant(x, dtype = tf.float32)  \n",
    "    y = y.reshape(-1,1)\n",
    "    y = tf.constant(y, dtype = tf.float32) \n",
    "    z = z.reshape(-1,1)\n",
    "    z = tf.constant(z, dtype = tf.float32) \n",
    "    # At the outlet\n",
    "    bc_outlet_p = net(tf.concat([x, y, z], axis=1))[:,3]\n",
    "    square_loss= tf.square(bc_outlet_p)\n",
    "    total_loss = tf.reduce_mean(square_loss)\n",
    "    return total_loss"
   ]
  },
  {
   "cell_type": "code",
   "execution_count": 10,
   "id": "89d9a9fd-24f3-44dc-8e00-b8a44e0b63d5",
   "metadata": {
    "tags": []
   },
   "outputs": [],
   "source": [
    "def generate_points_in_cylinder(R, H, N_pde):\n",
    "    points = []\n",
    "    while len(points) < N_pde:\n",
    "        x = random.uniform(-R, R)\n",
    "        y = random.uniform(-R, R)\n",
    "        z = random.uniform(0, H)\n",
    "        if x**2 + y**2 <= R**2:\n",
    "            points.append((x, y, z))\n",
    "    return np.array(points)"
   ]
  },
  {
   "cell_type": "code",
   "execution_count": 11,
   "id": "bef5c2ae-d753-4cb7-9eb7-588a295c6a92",
   "metadata": {
    "tags": []
   },
   "outputs": [],
   "source": [
    "def generate_points_inlet(R, N_in):\n",
    "    points = []\n",
    "    while len(points) < N_in:\n",
    "        x = random.uniform(-R, R)\n",
    "        y = random.uniform(-R, R)\n",
    "        z = random.uniform(0, 0+1e-4)\n",
    "        if x**2 + y**2 <= R**2:\n",
    "            points.append((x, y, z))\n",
    "    return np.array(points)\n",
    "def generate_points_outlet(R, H, N_out):\n",
    "    points = []\n",
    "    while len(points) < N_out:\n",
    "        x = random.uniform(-R, R)\n",
    "        y = random.uniform(-R, R)\n",
    "        z = random.uniform(H-1e-4, H)\n",
    "        if x**2 + y**2 <= R**2:\n",
    "            points.append((x, y, z))\n",
    "    return np.array(points)\n",
    "def generate_points_BC(R, H, N_BC):\n",
    "    points = []\n",
    "    while len(points) < N_BC:\n",
    "        x = random.uniform(-R, R)\n",
    "        y = random.uniform(-R, R)\n",
    "        z = random.uniform(0, H)\n",
    "        if  R**2 -x**2 -y**2 <R**2/3 and R**2 -x**2 -y**2>=0:\n",
    "            points.append((x, y, z))\n",
    "    return np.array(points)"
   ]
  },
  {
   "cell_type": "code",
   "execution_count": 12,
   "id": "1702313f-051c-4ea2-a86c-35e826b96d4a",
   "metadata": {
    "tags": []
   },
   "outputs": [],
   "source": [
    "N_pde = 800\n",
    "train_pde = generate_points_in_cylinder(D/2, H, N_pde)\n",
    "train_x_pde=train_pde[:,0]\n",
    "train_y_pde=train_pde[:,1]\n",
    "train_z_pde=train_pde[:,2]\n",
    "N_in = 50\n",
    "train_in = generate_points_inlet(D/2, N_in)\n",
    "train_x_in=train_in[:,0]\n",
    "train_y_in=train_in[:,1]\n",
    "train_z_in=train_in[:,2]\n",
    "N_out = 50\n",
    "train_out = generate_points_outlet(D/2, H, N_out)\n",
    "train_x_out=train_out[:,0]\n",
    "train_y_out=train_out[:,1]\n",
    "train_z_out=train_out[:,2]\n",
    "N_BC = 50\n",
    "train_BC = generate_points_BC(D/2, H, N_BC)\n",
    "train_x_BC=train_BC[:,0]\n",
    "train_y_BC=train_BC[:,1]\n",
    "train_z_BC=train_BC[:,2]"
   ]
  },
  {
   "cell_type": "code",
   "execution_count": null,
   "id": "6987fad3-f314-48cc-9791-de9446e3213e",
   "metadata": {},
   "outputs": [
    {
     "ename": "AttributeError",
     "evalue": "Axes.set() got an unexpected keyword argument 'projectio'",
     "output_type": "error",
     "traceback": [
      "\u001b[1;31m---------------------------------------------------------------------------\u001b[0m",
      "\u001b[1;31mAttributeError\u001b[0m                            Traceback (most recent call last)",
      "Cell \u001b[1;32mIn[13], line 2\u001b[0m\n\u001b[0;32m      1\u001b[0m fig\u001b[38;5;241m=\u001b[39mplt\u001b[38;5;241m.\u001b[39mfigure()\n\u001b[1;32m----> 2\u001b[0m ax\u001b[38;5;241m=\u001b[39m fig\u001b[38;5;241m.\u001b[39madd_subplot(\u001b[38;5;241m111\u001b[39m, projectio\u001b[38;5;241m=\u001b[39m\u001b[38;5;124m'\u001b[39m\u001b[38;5;124m3d\u001b[39m\u001b[38;5;124m'\u001b[39m)\n\u001b[0;32m      3\u001b[0m ax\u001b[38;5;241m.\u001b[39mscatter(train_x_pde,train_y_pde,train_z_pde, c\u001b[38;5;241m=\u001b[39m\u001b[38;5;124m'\u001b[39m\u001b[38;5;124mb\u001b[39m\u001b[38;5;124m'\u001b[39m,marker\u001b[38;5;241m=\u001b[39m\u001b[38;5;124m'\u001b[39m\u001b[38;5;124mo\u001b[39m\u001b[38;5;124m'\u001b[39m)\n\u001b[0;32m      4\u001b[0m plt\u001b[38;5;241m.\u001b[39mshow()\n",
      "File \u001b[1;32m~\\anaconda3\\Lib\\site-packages\\matplotlib\\figure.py:782\u001b[0m, in \u001b[0;36mFigureBase.add_subplot\u001b[1;34m(self, *args, **kwargs)\u001b[0m\n\u001b[0;32m    780\u001b[0m         args \u001b[38;5;241m=\u001b[39m \u001b[38;5;28mtuple\u001b[39m(\u001b[38;5;28mmap\u001b[39m(\u001b[38;5;28mint\u001b[39m, \u001b[38;5;28mstr\u001b[39m(args[\u001b[38;5;241m0\u001b[39m])))\n\u001b[0;32m    781\u001b[0m     projection_class, pkw \u001b[38;5;241m=\u001b[39m \u001b[38;5;28mself\u001b[39m\u001b[38;5;241m.\u001b[39m_process_projection_requirements(\u001b[38;5;241m*\u001b[39m\u001b[38;5;241m*\u001b[39mkwargs)\n\u001b[1;32m--> 782\u001b[0m     ax \u001b[38;5;241m=\u001b[39m projection_class(\u001b[38;5;28mself\u001b[39m, \u001b[38;5;241m*\u001b[39margs, \u001b[38;5;241m*\u001b[39m\u001b[38;5;241m*\u001b[39mpkw)\n\u001b[0;32m    783\u001b[0m     key \u001b[38;5;241m=\u001b[39m (projection_class, pkw)\n\u001b[0;32m    784\u001b[0m \u001b[38;5;28;01mreturn\u001b[39;00m \u001b[38;5;28mself\u001b[39m\u001b[38;5;241m.\u001b[39m_add_axes_internal(ax, key)\n",
      "File \u001b[1;32m~\\anaconda3\\Lib\\site-packages\\matplotlib\\axes\\_base.py:692\u001b[0m, in \u001b[0;36m_AxesBase.__init__\u001b[1;34m(self, fig, facecolor, frameon, sharex, sharey, label, xscale, yscale, box_aspect, *args, **kwargs)\u001b[0m\n\u001b[0;32m    689\u001b[0m \u001b[38;5;28;01mif\u001b[39;00m yscale:\n\u001b[0;32m    690\u001b[0m     \u001b[38;5;28mself\u001b[39m\u001b[38;5;241m.\u001b[39mset_yscale(yscale)\n\u001b[1;32m--> 692\u001b[0m \u001b[38;5;28mself\u001b[39m\u001b[38;5;241m.\u001b[39m_internal_update(kwargs)\n\u001b[0;32m    694\u001b[0m \u001b[38;5;28;01mfor\u001b[39;00m name, axis \u001b[38;5;129;01min\u001b[39;00m \u001b[38;5;28mself\u001b[39m\u001b[38;5;241m.\u001b[39m_axis_map\u001b[38;5;241m.\u001b[39mitems():\n\u001b[0;32m    695\u001b[0m     axis\u001b[38;5;241m.\u001b[39mcallbacks\u001b[38;5;241m.\u001b[39m_connect_picklable(\n\u001b[0;32m    696\u001b[0m         \u001b[38;5;124m'\u001b[39m\u001b[38;5;124munits\u001b[39m\u001b[38;5;124m'\u001b[39m, \u001b[38;5;28mself\u001b[39m\u001b[38;5;241m.\u001b[39m_unit_change_handler(name))\n",
      "File \u001b[1;32m~\\anaconda3\\Lib\\site-packages\\matplotlib\\artist.py:1219\u001b[0m, in \u001b[0;36mArtist._internal_update\u001b[1;34m(self, kwargs)\u001b[0m\n\u001b[0;32m   1212\u001b[0m \u001b[38;5;28;01mdef\u001b[39;00m \u001b[38;5;21m_internal_update\u001b[39m(\u001b[38;5;28mself\u001b[39m, kwargs):\n\u001b[0;32m   1213\u001b[0m \u001b[38;5;250m    \u001b[39m\u001b[38;5;124;03m\"\"\"\u001b[39;00m\n\u001b[0;32m   1214\u001b[0m \u001b[38;5;124;03m    Update artist properties without prenormalizing them, but generating\u001b[39;00m\n\u001b[0;32m   1215\u001b[0m \u001b[38;5;124;03m    errors as if calling `set`.\u001b[39;00m\n\u001b[0;32m   1216\u001b[0m \n\u001b[0;32m   1217\u001b[0m \u001b[38;5;124;03m    The lack of prenormalization is to maintain backcompatibility.\u001b[39;00m\n\u001b[0;32m   1218\u001b[0m \u001b[38;5;124;03m    \"\"\"\u001b[39;00m\n\u001b[1;32m-> 1219\u001b[0m     \u001b[38;5;28;01mreturn\u001b[39;00m \u001b[38;5;28mself\u001b[39m\u001b[38;5;241m.\u001b[39m_update_props(\n\u001b[0;32m   1220\u001b[0m         kwargs, \u001b[38;5;124m\"\u001b[39m\u001b[38;5;132;01m{cls.__name__}\u001b[39;00m\u001b[38;5;124m.set() got an unexpected keyword argument \u001b[39m\u001b[38;5;124m\"\u001b[39m\n\u001b[0;32m   1221\u001b[0m         \u001b[38;5;124m\"\u001b[39m\u001b[38;5;132;01m{prop_name!r}\u001b[39;00m\u001b[38;5;124m\"\u001b[39m)\n",
      "File \u001b[1;32m~\\anaconda3\\Lib\\site-packages\\matplotlib\\artist.py:1193\u001b[0m, in \u001b[0;36mArtist._update_props\u001b[1;34m(self, props, errfmt)\u001b[0m\n\u001b[0;32m   1191\u001b[0m             func \u001b[38;5;241m=\u001b[39m \u001b[38;5;28mgetattr\u001b[39m(\u001b[38;5;28mself\u001b[39m, \u001b[38;5;124mf\u001b[39m\u001b[38;5;124m\"\u001b[39m\u001b[38;5;124mset_\u001b[39m\u001b[38;5;132;01m{\u001b[39;00mk\u001b[38;5;132;01m}\u001b[39;00m\u001b[38;5;124m\"\u001b[39m, \u001b[38;5;28;01mNone\u001b[39;00m)\n\u001b[0;32m   1192\u001b[0m             \u001b[38;5;28;01mif\u001b[39;00m \u001b[38;5;129;01mnot\u001b[39;00m \u001b[38;5;28mcallable\u001b[39m(func):\n\u001b[1;32m-> 1193\u001b[0m                 \u001b[38;5;28;01mraise\u001b[39;00m \u001b[38;5;167;01mAttributeError\u001b[39;00m(\n\u001b[0;32m   1194\u001b[0m                     errfmt\u001b[38;5;241m.\u001b[39mformat(\u001b[38;5;28mcls\u001b[39m\u001b[38;5;241m=\u001b[39m\u001b[38;5;28mtype\u001b[39m(\u001b[38;5;28mself\u001b[39m), prop_name\u001b[38;5;241m=\u001b[39mk))\n\u001b[0;32m   1195\u001b[0m             ret\u001b[38;5;241m.\u001b[39mappend(func(v))\n\u001b[0;32m   1196\u001b[0m \u001b[38;5;28;01mif\u001b[39;00m ret:\n",
      "\u001b[1;31mAttributeError\u001b[0m: Axes.set() got an unexpected keyword argument 'projectio'"
     ]
    }
   ],
   "source": [
    "fig=plt.figure()\n",
    "ax= fig.add_subplot(111, projectio='3d')\n",
    "ax.scatter(train_x_pde,train_y_pde,train_z_pde, c='b',marker='o')\n",
    "plt.show()"
   ]
  },
  {
   "cell_type": "code",
   "execution_count": null,
   "id": "90017f52-1f1a-42d1-8694-7c25c1f813c0",
   "metadata": {
    "tags": []
   },
   "outputs": [
    {
     "name": "stdout",
     "output_type": "stream",
     "text": [
      "WARNING:tensorflow:Calling GradientTape.gradient on a persistent tape inside its context is significantly less efficient than calling it outside the context (it causes the gradient ops to be recorded on the tape, leading to increased CPU and memory usage). Only call GradientTape.gradient inside the context if you actually want to trace the gradient in order to compute higher order derivatives.\n",
      "WARNING:tensorflow:Calling GradientTape.gradient on a persistent tape inside its context is significantly less efficient than calling it outside the context (it causes the gradient ops to be recorded on the tape, leading to increased CPU and memory usage). Only call GradientTape.gradient inside the context if you actually want to trace the gradient in order to compute higher order derivatives.\n",
      "WARNING:tensorflow:Calling GradientTape.gradient on a persistent tape inside its context is significantly less efficient than calling it outside the context (it causes the gradient ops to be recorded on the tape, leading to increased CPU and memory usage). Only call GradientTape.gradient inside the context if you actually want to trace the gradient in order to compute higher order derivatives.\n",
      "2.2101166\n"
     ]
    }
   ],
   "source": [
    "train_loss_record = []\n",
    "\n",
    "for itr in range(3000):\n",
    "    with tf.GradientTape() as tape:\n",
    "        \n",
    "        train_loss_BC= BC_loss (train_x_BC, train_y_BC, train_z_BC, NN)\n",
    "        train_loss_IN= IN_loss (train_x_in, train_y_in, train_z_in, NN, u_in)\n",
    "        \n",
    "        train_loss_OUT= OUT_loss (train_x_out, train_y_out, train_z_out, NN)\n",
    "        train_loss_pde = pde_loss(train_x_pde, train_y_pde, train_z_pde, NN, nu, rho)\n",
    "        total_loss = train_loss_pde + train_loss_BC + train_loss_IN + train_loss_OUT\n",
    "        \n",
    "        train_loss_record.append(total_loss)\n",
    "                \n",
    "        grad_w = tape.gradient(total_loss, NN.trainable_variables)\n",
    "        optm.apply_gradients(zip(grad_w, NN.trainable_variables))\n",
    "    \n",
    "    if itr % 1000 == 0:\n",
    "        print(total_loss.numpy())\n",
    "        \n",
    "#plt.figure(figsize = (10,8))\n",
    "#plt.plot(train_loss_record)\n",
    "#plt.show()"
   ]
  },
  {
   "cell_type": "code",
   "execution_count": null,
   "id": "3cf10b10-86da-4a91-bea7-397dd4b89135",
   "metadata": {
    "tags": []
   },
   "outputs": [],
   "source": [
    "samples = np.random.rand(500000, 2)\n",
    "samples[:, 0] = 0  # Set x-coordinate to 0\n",
    "samples[:, 1] = (samples[:, 1] - 0.5) * D  # Scale y-coordinate to the desired range [-D/2, D/2]\n",
    "samples = np.hstack([samples, np.random.rand(500000, 1) * H])\n",
    "result = NN.predict(samples)\n",
    "\n",
    "# Assuming you have defined `color_legend` elsewhere in your code\n",
    "color_legend = [[0, 1.5], [-0.3, 0.3], [0, 35], [0, 35]]\n",
    "\n",
    "# Plotting code (assuming `D` and `H` are defined)\n",
    "for idx in range(4):\n",
    "    plt.figure(figsize=(20, 4))\n",
    "    plt.scatter(samples[:, 1],\n",
    "                samples[:, 2],  # Assuming z coordinate is the third dimension\n",
    "                c=result[:, idx],\n",
    "                cmap='jet',\n",
    "                s=2)\n",
    "    plt.colorbar()\n",
    "    #plt.clim(color_legend[idx])\n",
    "    plt.xlim((-D/2, D/2))  # Adjusting x limits\n",
    "    plt.ylim((0, H))       # Adjusting y limits\n",
    "    plt.tight_layout()\n",
    "    plt.show()"
   ]
  },
  {
   "cell_type": "code",
   "execution_count": null,
   "id": "29a8c45c-8546-40cb-a006-7d66f9c0bdf7",
   "metadata": {},
   "outputs": [],
   "source": [
    "def generate_samples(N, D, H):\n",
    "    samples = np.random.rand(N, 3)\n",
    "    while True:\n",
    "        samples[:, 0] = (np.random.rand(N) - 0.5) * D\n",
    "        samples[:, 1] = (np.random.rand(N) - 0.5) * D\n",
    "        samples[:, 2] = H/2\n",
    "        mask = samples[:, 0]**2 + samples[:, 1]**2 <= (D/2)**2\n",
    "        if np.sum(mask) >= N:\n",
    "            break\n",
    "    samples = samples[mask]\n",
    "    return samples\n",
    "\n",
    "N = 500000\n",
    "\n",
    "\n",
    "samples = generate_samples(N, D, H)\n",
    "result = NN.predict(samples)\n",
    "\n",
    "# Assuming you have defined `color_legend` elsewhere in your code\n",
    "color_legend = [[0, 1.5], [-0.3, 0.3], [0, 35], [0, 35]]\n",
    "\n",
    "# Plotting code (assuming `D` and `H` are defined)\n",
    "for idx in range(4):\n",
    "    plt.figure(figsize=(20, 20))\n",
    "    plt.scatter(samples[:, 0],\n",
    "                samples[:, 1],  # Assuming z coordinate is the third dimension\n",
    "                c=result[:, idx],\n",
    "                cmap='jet',\n",
    "                s=2)\n",
    "    \n",
    "    # Adding circle with radius D/2\n",
    "    circle = plt.Circle((0, 0), D/2, color='black', fill=False)\n",
    "    plt.gca().add_patch(circle)\n",
    "    \n",
    "    plt.colorbar()\n",
    "    plt.xlim((-D/2, D/2))  # Adjusting x limits\n",
    "    plt.ylim((-D/2, D/2))  # Adjusting y limits\n",
    "    plt.tight_layout()\n",
    "    plt.show()"
   ]
  },
  {
   "cell_type": "code",
   "execution_count": null,
   "id": "909353f1-1fea-4dd0-aca5-7fc4cc415cd6",
   "metadata": {},
   "outputs": [],
   "source": []
  }
 ],
 "metadata": {
  "kernelspec": {
   "display_name": "Python 3 (ipykernel)",
   "language": "python",
   "name": "python3"
  },
  "language_info": {
   "codemirror_mode": {
    "name": "ipython",
    "version": 3
   },
   "file_extension": ".py",
   "mimetype": "text/x-python",
   "name": "python",
   "nbconvert_exporter": "python",
   "pygments_lexer": "ipython3",
   "version": "3.11.3"
  }
 },
 "nbformat": 4,
 "nbformat_minor": 5
}
